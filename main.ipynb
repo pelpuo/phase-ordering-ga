{
 "cells": [
  {
   "cell_type": "code",
   "execution_count": 2,
   "id": "ac4bf5d6",
   "metadata": {},
   "outputs": [],
   "source": [
    "import subprocess\n",
    "import time\n",
    "import random"
   ]
  },
  {
   "cell_type": "markdown",
   "id": "b3d81292",
   "metadata": {},
   "source": [
    "## Evaluating One Candidate"
   ]
  },
  {
   "cell_type": "code",
   "execution_count": 1,
   "id": "a3e30527",
   "metadata": {},
   "outputs": [],
   "source": [
    "def apply_passes(input_bc, output_bc, pass_order):\n",
    "    passes_str = \",\".join(pass_order)\n",
    "    cmd = [\"opt\", f\"-passes={passes_str}\", input_bc, \"-o\", output_bc]\n",
    "    subprocess.run(cmd, check=True)\n",
    "\n",
    "def compile_to_binary(output_bc, output_bin):\n",
    "    cmd = [\"clang\", output_bc, \"-o\", output_bin]\n",
    "    subprocess.run(cmd, check=True)\n",
    "\n",
    "def measure_runtime(binary):\n",
    "    start = time.time()\n",
    "    subprocess.run([f\"./{binary}\"], check=True)\n",
    "    end = time.time()\n",
    "    return end - start\n",
    "\n",
    "def measure_size(binary):\n",
    "    result = subprocess.run([\"size\", binary], capture_output=True, text=True)\n",
    "    lines = result.stdout.strip().split(\"\\n\")\n",
    "    if len(lines) < 2:\n",
    "        return None\n",
    "    size_fields = lines[1].split()\n",
    "    total_size = sum(int(x) for x in size_fields[:4])\n",
    "    return total_size\n",
    "\n",
    "def evaluate_candidate(pass_order, input_bc, workdir, mode=\"runtime\"):\n",
    "    candidate_bc = f\"{workdir}/candidate.bc\"\n",
    "    candidate_bin = f\"{workdir}/candidate_bin\"\n",
    "    try:\n",
    "        apply_passes(input_bc, candidate_bc, pass_order)\n",
    "        compile_to_binary(candidate_bc, candidate_bin)\n",
    "        if mode == \"runtime\":\n",
    "            fitness = measure_runtime(candidate_bin)\n",
    "        elif mode == \"size\":\n",
    "            fitness = measure_size(candidate_bin)\n",
    "        else:\n",
    "            raise ValueError(\"Invalid mode\")\n",
    "        return fitness\n",
    "    except subprocess.CalledProcessError:\n",
    "        return float(\"inf\")  # Penalize failure"
   ]
  },
  {
   "cell_type": "markdown",
   "id": "f05765bf",
   "metadata": {},
   "source": [
    "## Genetic Algorithm Operators"
   ]
  },
  {
   "cell_type": "code",
   "execution_count": null,
   "id": "e5cc2b7c",
   "metadata": {},
   "outputs": [],
   "source": [
    "\n",
    "def random_candidate(pass_pool, max_len=5):\n",
    "    length = random.randint(1, max_len)\n",
    "    return [random.choice(pass_pool) for _ in range(length)]\n",
    "\n",
    "\n",
    "def crossover(parent1, parent2, max_len=5):\n",
    "    # Pick cut points\n",
    "    p1_cut = random.randint(1, len(parent1))\n",
    "    p2_cut = random.randint(1, len(parent2))\n",
    "    \n",
    "    # Combine slices\n",
    "    child = parent1[:p1_cut] + parent2[p2_cut:]\n",
    "    \n",
    "    # Clip if too long\n",
    "    if len(child) > max_len:\n",
    "        child = child[:max_len]\n",
    "    \n",
    "    return child\n",
    "\n",
    "\n",
    "def mutate(candidate, pass_pool, mutation_rate=0.1, max_len=5):\n",
    "    mutated = []\n",
    "    for gene in candidate:\n",
    "        if random.random() < mutation_rate:\n",
    "            # Replace this pass\n",
    "            mutated.append(random.choice(pass_pool))\n",
    "        else:\n",
    "            mutated.append(gene)\n",
    "    \n",
    "    # Random insertion\n",
    "    if len(mutated) < max_len and random.random() < mutation_rate:\n",
    "        insert_pos = random.randint(0, len(mutated))\n",
    "        mutated.insert(insert_pos, random.choice(pass_pool))\n",
    "    \n",
    "    # Random deletion\n",
    "    if len(mutated) > 1 and random.random() < mutation_rate:\n",
    "        del_pos = random.randint(0, len(mutated) - 1)\n",
    "        mutated.pop(del_pos)\n",
    "    \n",
    "    return mutated\n"
   ]
  },
  {
   "cell_type": "markdown",
   "id": "d9f85b41",
   "metadata": {},
   "source": [
    "## Running the GA loop"
   ]
  },
  {
   "cell_type": "code",
   "execution_count": 4,
   "id": "17f6b189",
   "metadata": {},
   "outputs": [],
   "source": [
    "def run_ga(input_bc, pass_pool, generations=10, pop_size=20, seq_length=5):\n",
    "    population = [random_candidate(pass_pool, seq_length) for _ in range(pop_size)]\n",
    "\n",
    "    for generation in range(generations):\n",
    "        print(f\"Generation {generation}\")\n",
    "        fitnesses = []\n",
    "        for candidate in population:\n",
    "            fitness = evaluate_candidate(candidate, input_bc, \"/tmp/workdir\")\n",
    "            fitnesses.append((fitness, candidate))\n",
    "            print(f\"Candidate {candidate} => Fitness {fitness}\")\n",
    "\n",
    "        # Selection\n",
    "        fitnesses.sort(key=lambda x: x[0])\n",
    "        population = [cand for _, cand in fitnesses[:pop_size // 2]]\n",
    "\n",
    "        # Crossover and mutation\n",
    "        new_population = []\n",
    "        while len(new_population) < pop_size:\n",
    "            parents = random.sample(population, 2)\n",
    "            c1, c2 = crossover(parents[0], parents[1])\n",
    "            c1 = mutate(c1, pass_pool)\n",
    "            c2 = mutate(c2, pass_pool)\n",
    "            new_population.extend([c1, c2])\n",
    "\n",
    "        population = new_population\n",
    "\n",
    "    # Final best\n",
    "    best = min(fitnesses, key=lambda x: x[0])\n",
    "    print(f\"Best candidate: {best[1]} with fitness {best[0]}\")\n"
   ]
  },
  {
   "cell_type": "markdown",
   "id": "c0a88b2d",
   "metadata": {},
   "source": [
    "## Example usage"
   ]
  },
  {
   "cell_type": "code",
   "execution_count": null,
   "id": "b3113870",
   "metadata": {},
   "outputs": [],
   "source": [
    "PASS_POOL = [\n",
    "    \"inline\",\n",
    "    \"loop-unroll\",\n",
    "    \"gvn\",\n",
    "    \"adce\",\n",
    "    \"instcombine\",\n",
    "    \"simplifycfg\",\n",
    "    \"reassociate\",\n",
    "    \"licm\",\n",
    "]\n",
    "\n",
    "run_ga(\"foo.bc\", PASS_POOL)"
   ]
  }
 ],
 "metadata": {
  "kernelspec": {
   "display_name": "base",
   "language": "python",
   "name": "python3"
  },
  "language_info": {
   "codemirror_mode": {
    "name": "ipython",
    "version": 3
   },
   "file_extension": ".py",
   "mimetype": "text/x-python",
   "name": "python",
   "nbconvert_exporter": "python",
   "pygments_lexer": "ipython3",
   "version": "3.12.2"
  }
 },
 "nbformat": 4,
 "nbformat_minor": 5
}
